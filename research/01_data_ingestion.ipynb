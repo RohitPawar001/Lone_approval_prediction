{
 "cells": [
  {
   "cell_type": "code",
   "execution_count": 1,
   "metadata": {},
   "outputs": [],
   "source": [
    "import os"
   ]
  },
  {
   "cell_type": "code",
   "execution_count": 2,
   "metadata": {},
   "outputs": [
    {
     "data": {
      "text/plain": [
       "'d:\\\\software\\\\python_vs\\\\lone_approval_prediction\\\\research'"
      ]
     },
     "execution_count": 2,
     "metadata": {},
     "output_type": "execute_result"
    }
   ],
   "source": [
    "%pwd"
   ]
  },
  {
   "cell_type": "code",
   "execution_count": 3,
   "metadata": {},
   "outputs": [],
   "source": [
    "os.chdir(\"../\")"
   ]
  },
  {
   "cell_type": "code",
   "execution_count": 4,
   "metadata": {},
   "outputs": [
    {
     "data": {
      "text/plain": [
       "'d:\\\\software\\\\python_vs\\\\lone_approval_prediction'"
      ]
     },
     "execution_count": 4,
     "metadata": {},
     "output_type": "execute_result"
    }
   ],
   "source": [
    "%pwd"
   ]
  },
  {
   "cell_type": "code",
   "execution_count": 5,
   "metadata": {},
   "outputs": [],
   "source": [
    "from dataclasses import dataclass\n",
    "from pathlib import Path\n",
    "\n",
    "@dataclass(frozen=True)\n",
    "class DataIngestionConfig:\n",
    "    root_dir: Path\n",
    "    source_url: str\n",
    "    local_data_file: Path\n",
    "    unzip_dir: Path\n",
    "    "
   ]
  },
  {
   "cell_type": "code",
   "execution_count": 6,
   "metadata": {},
   "outputs": [],
   "source": [
    "import os\n",
    "import zipfile\n",
    "import urllib.request as request\n",
    "from lone_approval_prediction.constants import *\n",
    "from lone_approval_prediction import logger\n",
    "from lone_approval_prediction.utils.comman import create_directories, read_yaml\n",
    "\n",
    "class ConfigurationManager:\n",
    "    def __init__(\n",
    "        self,\n",
    "        config_filepath = CONFIG_FILE_PATH,\n",
    "        params_filepath = PARAMS_FILE_PATH,\n",
    "        schema_filepath = SCHEMA_FILE_PATH\n",
    "    ):\n",
    "        \n",
    "        self.config = read_yaml(config_filepath)\n",
    "        self.params = read_yaml(params_filepath)\n",
    "        self.schema = read_yaml(schema_filepath)\n",
    "        \n",
    "        create_directories([self.config[\"artifacts_root\"]])\n",
    "        \n",
    "    def get_data_ingestion_config(self) -> DataIngestionConfig:\n",
    "        config = self.config[\"data_ingestion\"]\n",
    "        \n",
    "        create_directories([config[\"root_dir\"]])\n",
    "        \n",
    "        data_ingestion_config = DataIngestionConfig(\n",
    "            root_dir = config[\"root_dir\"],\n",
    "            source_url = config[\"source_url\"],\n",
    "            local_data_file = config[\"local_data_file\"],\n",
    "            unzip_dir = config[\"unzip_dir\"]\n",
    "            \n",
    "        )\n",
    "        \n",
    "        return data_ingestion_config\n",
    "    "
   ]
  },
  {
   "cell_type": "code",
   "execution_count": 7,
   "metadata": {},
   "outputs": [],
   "source": [
    "import zipfile\n",
    "import pandas\n",
    "import shutil\n",
    "import os\n",
    "import urllib.request as request\n",
    "from pathlib import Path\n",
    "from lone_approval_prediction import logging\n",
    "from lone_approval_prediction.utils.comman import get_size\n",
    "\n",
    "class DataIngestion:\n",
    "    def __init__(self, config):\n",
    "        self.config = config\n",
    "\n",
    "    def download_file(self):\n",
    "        local_data_file_dir = os.path.dirname(self.config.local_data_file)\n",
    "        if not os.path.exists(local_data_file_dir):\n",
    "            os.makedirs(local_data_file_dir, exist_ok=True)\n",
    "\n",
    "        if not os.path.exists(self.config.local_data_file):\n",
    "            filename, headers = request.urlretrieve(\n",
    "                url=self.config.source_url,\n",
    "                filename=self.config.local_data_file\n",
    "            )\n",
    "            logger.info(f\"{filename} downloaded successfully with following info:\\n{headers}\")\n",
    "        else:\n",
    "            print(f\"File already exists of size: {os.path.getsize(self.config.local_data_file)}\")\n",
    "\n",
    "    def extract_zipfile(self):\n",
    "        unzip_path = self.config.unzip_dir\n",
    "        os.makedirs(unzip_path, exist_ok=True)\n",
    "        with zipfile.ZipFile(self.config.local_data_file, \"r\") as zip_ref:\n",
    "            zip_ref.extractall(unzip_path)\n",
    "        logger.info(f\"Extracted all files at {unzip_path}\")\n"
   ]
  },
  {
   "cell_type": "code",
   "execution_count": 8,
   "metadata": {},
   "outputs": [
    {
     "name": "stdout",
     "output_type": "stream",
     "text": [
      "2025-02-01 19:43:01,512: INFO: comman: yaml file : config\\config.yaml lodded successfully\n",
      "2025-02-01 19:43:01,512: INFO: comman: yaml file : params.yaml lodded successfully\n",
      "2025-02-01 19:43:01,512: INFO: comman: yaml file : schema.yaml lodded successfully\n",
      "2025-02-01 19:43:01,512: INFO: comman: created directory at :artifacts\n",
      "2025-02-01 19:43:01,518: INFO: comman: created directory at :artifacts/data_ingestion\n",
      "2025-02-01 19:43:02,988: INFO: 4212319911: artifacts/data_ingestion/data.zip downloaded successfully with following info:\n",
      "Connection: close\n",
      "Content-Length: 82535\n",
      "Cache-Control: max-age=300\n",
      "Content-Security-Policy: default-src 'none'; style-src 'unsafe-inline'; sandbox\n",
      "Content-Type: application/zip\n",
      "ETag: \"d3990bb007a03f79f966d4d9a3089d613854b2ebc1bba0789824cb64bb919241\"\n",
      "Strict-Transport-Security: max-age=31536000\n",
      "X-Content-Type-Options: nosniff\n",
      "X-Frame-Options: deny\n",
      "X-XSS-Protection: 1; mode=block\n",
      "X-GitHub-Request-Id: A7AC:08EF:A6D7D:FC381:679E2BF7\n",
      "Accept-Ranges: bytes\n",
      "Date: Sat, 01 Feb 2025 14:13:11 GMT\n",
      "Via: 1.1 varnish\n",
      "X-Served-By: cache-bom4724-BOM\n",
      "X-Cache: MISS\n",
      "X-Cache-Hits: 0\n",
      "X-Timer: S1738419191.242609,VS0,VE476\n",
      "Vary: Authorization,Accept-Encoding,Origin\n",
      "Access-Control-Allow-Origin: *\n",
      "Cross-Origin-Resource-Policy: cross-origin\n",
      "X-Fastly-Request-ID: d707c02079a3f0458270cf80de5d3707c9bffefa\n",
      "Expires: Sat, 01 Feb 2025 14:18:11 GMT\n",
      "Source-Age: 0\n",
      "\n",
      "\n",
      "2025-02-01 19:43:03,000: INFO: 4212319911: Extracted all files at artifacts/data_ingestion\n"
     ]
    }
   ],
   "source": [
    "try:\n",
    "    config = ConfigurationManager()\n",
    "    data_ingestion_config = config.get_data_ingestion_config()\n",
    "    data_ingestion = DataIngestion(data_ingestion_config)\n",
    "    data_ingestion.download_file()\n",
    "    data_ingestion.extract_zipfile()\n",
    "except Exception as e:\n",
    "    raise e"
   ]
  }
 ],
 "metadata": {
  "kernelspec": {
   "display_name": "Python 3",
   "language": "python",
   "name": "python3"
  },
  "language_info": {
   "codemirror_mode": {
    "name": "ipython",
    "version": 3
   },
   "file_extension": ".py",
   "mimetype": "text/x-python",
   "name": "python",
   "nbconvert_exporter": "python",
   "pygments_lexer": "ipython3",
   "version": "3.12.2"
  }
 },
 "nbformat": 4,
 "nbformat_minor": 2
}
