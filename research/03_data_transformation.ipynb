{
 "cells": [
  {
   "cell_type": "code",
   "execution_count": 1,
   "metadata": {},
   "outputs": [],
   "source": [
    "import os"
   ]
  },
  {
   "cell_type": "code",
   "execution_count": 2,
   "metadata": {},
   "outputs": [
    {
     "data": {
      "text/plain": [
       "'d:\\\\software\\\\python_vs\\\\lone_approval_prediction\\\\research'"
      ]
     },
     "execution_count": 2,
     "metadata": {},
     "output_type": "execute_result"
    }
   ],
   "source": [
    "%pwd"
   ]
  },
  {
   "cell_type": "code",
   "execution_count": 4,
   "metadata": {},
   "outputs": [],
   "source": [
    "os.chdir(\"../\")"
   ]
  },
  {
   "cell_type": "markdown",
   "metadata": {},
   "source": [
    "### Entity"
   ]
  },
  {
   "cell_type": "code",
   "execution_count": 5,
   "metadata": {},
   "outputs": [],
   "source": [
    "from pathlib import Path\n",
    "from dataclasses import dataclass\n",
    "\n",
    "@dataclass\n",
    "class DataTransformationConfig:\n",
    "    root_dir : Path\n",
    "    data_file_path : Path"
   ]
  },
  {
   "cell_type": "markdown",
   "metadata": {},
   "source": [
    "# Configuration manager"
   ]
  },
  {
   "cell_type": "code",
   "execution_count": 6,
   "metadata": {},
   "outputs": [],
   "source": [
    "from lone_approval_prediction.constants import *\n",
    "from lone_approval_prediction.utils.comman import create_directories, read_yaml\n",
    "\n",
    "class ConfigurationManager:\n",
    "    def __init__(\n",
    "        self,\n",
    "        config_filepath = CONFIG_FILE_PATH,\n",
    "        params_filepath = PARAMS_FILE_PATH,\n",
    "        schema_filepath = SCHEMA_FILE_PATH\n",
    "        ):\n",
    "        self.config = read_yaml(config_filepath)\n",
    "        self.params = read_yaml(params_filepath)\n",
    "        self.schema = read_yaml(schema_filepath)\n",
    "        \n",
    "        create_directories([self.config.artifacts_root])\n",
    "        \n",
    "    def get_data_transformation_config(self,config) -> DataTransformationConfig:\n",
    "        config = self.config[\"data_transformation\"]\n",
    "        \n",
    "        create_directories([self.config.root_dir])\n",
    "        \n",
    "        data_transformation_config = DataTransformationConfig(\n",
    "            root_dir = config[\"root_dir\"],\n",
    "            data_file_path = config[\"data_file_path\"]\n",
    "            \n",
    "        )\n",
    "        \n",
    "        return data_transformation_config\n",
    "        "
   ]
  },
  {
   "cell_type": "markdown",
   "metadata": {},
   "source": [
    "## componets"
   ]
  },
  {
   "cell_type": "code",
   "execution_count": null,
   "metadata": {},
   "outputs": [],
   "source": [
    "import pandas as pd\n",
    "import numpy as np\n",
    "from sklearn.preprocessing import OrdinalEncoder\n",
    "from sklearn.preprocessing import StandardScaler\n",
    "from lone_approval_prediction import logger\n",
    "\n",
    "class DataTransformation:\n",
    "    def __init__(self,config:DataTransformationConfig):\n",
    "        self.config = config\n",
    "        \n",
    "    def read_data_file(self):\n",
    "        self.data = pd.read_csv(self.config.data_file_path)\n",
    "        \n",
    "    def drop_unwanted_columns(self,unwanted_features:list):\n",
    "        for feature in unwanted_features:\n",
    "            if feature in self.data.columns:\n",
    "                data.drop(feature,axis=1,inplace=True)\n",
    "                logger.info(f\"{feature} has been removed from the dataset\")\n",
    "            else:\n",
    "                logger.info(f\"{feature} does dont exists in this dataset\")\n",
    "    \n",
    "    def preprocess_data(self):\n",
    "        encoding =  OrdinalEncoder()\n",
    "        categorical_features = [feature for feature in self.data.columns if data[feature].dtype == \"O\"]\n",
    "        for feature in categorical_features:\n",
    "            try:\n",
    "                self.data[f\"{feature}_encodded\"] = encoding.fit_transform(self.data[feature])\n",
    "                logger.info(f\"{feature} has been encodded successfully with {feature}_encodded\")\n",
    "                self.data.drop(feature,axis=1,inplace=True)\n",
    "                logger.info(f\"{feature} has been deleted successfully\")\n",
    "            except Exception as e:\n",
    "                raise e\n",
    "            \n",
    "        scaler = StandardScaler\n",
    "        \n",
    "        sclaled_data = scaler.fit_transform(self.data)\n",
    "        \n",
    "        \n",
    "            \n",
    "        \n",
    "            \n",
    "    \n",
    "            \n",
    "        \n",
    "        "
   ]
  }
 ],
 "metadata": {
  "kernelspec": {
   "display_name": "Python 3",
   "language": "python",
   "name": "python3"
  },
  "language_info": {
   "codemirror_mode": {
    "name": "ipython",
    "version": 3
   },
   "file_extension": ".py",
   "mimetype": "text/x-python",
   "name": "python",
   "nbconvert_exporter": "python",
   "pygments_lexer": "ipython3",
   "version": "3.12.2"
  }
 },
 "nbformat": 4,
 "nbformat_minor": 2
}
