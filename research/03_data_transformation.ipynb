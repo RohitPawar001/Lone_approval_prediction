{
 "cells": [
  {
   "cell_type": "code",
   "execution_count": 1,
   "metadata": {},
   "outputs": [],
   "source": [
    "import os"
   ]
  },
  {
   "cell_type": "code",
   "execution_count": 2,
   "metadata": {},
   "outputs": [
    {
     "data": {
      "text/plain": [
       "'d:\\\\software\\\\python_vs\\\\lone_approval_prediction\\\\research'"
      ]
     },
     "execution_count": 2,
     "metadata": {},
     "output_type": "execute_result"
    }
   ],
   "source": [
    "%pwd"
   ]
  },
  {
   "cell_type": "code",
   "execution_count": 3,
   "metadata": {},
   "outputs": [],
   "source": [
    "os.chdir(\"../\")"
   ]
  },
  {
   "cell_type": "code",
   "execution_count": 4,
   "metadata": {},
   "outputs": [
    {
     "data": {
      "text/plain": [
       "'d:\\\\software\\\\python_vs\\\\lone_approval_prediction'"
      ]
     },
     "execution_count": 4,
     "metadata": {},
     "output_type": "execute_result"
    }
   ],
   "source": [
    "%pwd"
   ]
  },
  {
   "cell_type": "markdown",
   "metadata": {},
   "source": [
    "### Entity"
   ]
  },
  {
   "cell_type": "code",
   "execution_count": 5,
   "metadata": {},
   "outputs": [],
   "source": [
    "from pathlib import Path\n",
    "from dataclasses import dataclass\n",
    "\n",
    "@dataclass\n",
    "class DataTransformationConfig:\n",
    "    root_dir : Path\n",
    "    data_file_path : Path"
   ]
  },
  {
   "cell_type": "markdown",
   "metadata": {},
   "source": [
    "# Configuration manager"
   ]
  },
  {
   "cell_type": "code",
   "execution_count": 6,
   "metadata": {},
   "outputs": [],
   "source": [
    "from lone_approval_prediction.constants import *\n",
    "from lone_approval_prediction.utils.comman import create_directories, read_yaml\n",
    "\n",
    "class ConfigurationManager:\n",
    "    def __init__(\n",
    "        self,\n",
    "        config_filepath = CONFIG_FILE_PATH,\n",
    "        params_filepath = PARAMS_FILE_PATH,\n",
    "        schema_filepath = SCHEMA_FILE_PATH\n",
    "        ):\n",
    "        self.config = read_yaml(config_filepath)\n",
    "        self.params = read_yaml(params_filepath)\n",
    "        self.schema = read_yaml(schema_filepath)\n",
    "        \n",
    "        create_directories([self.config.artifacts_root])\n",
    "        \n",
    "    def get_data_transformation_config(self) -> DataTransformationConfig:\n",
    "        config = self.config[\"data_transformation\"]\n",
    "        \n",
    "        create_directories([config[\"root_dir\"]])\n",
    "        \n",
    "        data_transformation_config = DataTransformationConfig(\n",
    "            root_dir = config.root_dir,\n",
    "            data_file_path = config.data_file_path            \n",
    "        )\n",
    "        \n",
    "        return data_transformation_config\n",
    "        "
   ]
  },
  {
   "cell_type": "markdown",
   "metadata": {},
   "source": [
    "## componets"
   ]
  },
  {
   "cell_type": "code",
   "execution_count": 9,
   "metadata": {},
   "outputs": [],
   "source": [
    "import pandas as pd\n",
    "import numpy as np\n",
    "from sklearn.preprocessing import OrdinalEncoder\n",
    "from sklearn.preprocessing import StandardScaler\n",
    "from sklearn.feature_selection import mutual_info_classif\n",
    "from sklearn.model_selection import train_test_split\n",
    "from imblearn.over_sampling import SMOTE\n",
    "from collections import Counter\n",
    "from lone_approval_prediction import logger\n",
    "\n",
    "class DataTransformation:\n",
    "    def __init__(self,config:DataTransformationConfig):\n",
    "        self.config = config\n",
    "        self.data = pd.read_csv(self.config.data_file_path)\n",
    "        \n",
    "    def drop_unwanted_columns(self,unwanted_features:list):\n",
    "        for feature in unwanted_features:\n",
    "            if feature in self.data.columns:\n",
    "                data.drop(feature,axis=1,inplace=True)\n",
    "                logger.info(f\"{feature} has been removed from the dataset\")\n",
    "            else:\n",
    "                logger.info(f\"{feature} does dont exists in this dataset\")\n",
    "    \n",
    "    def preprocess_data(self):\n",
    "        \n",
    "        encoding =  OrdinalEncoder()\n",
    "        categorical_features = [feature for feature in self.data.columns if self.data[feature].dtype == \"O\"]\n",
    "        for feature in categorical_features:\n",
    "            try:\n",
    "                self.data[f\"{feature}_encodded\"] = encoding.fit_transform(self.data[[feature]])\n",
    "                logger.info(f\"{feature} has been encodded successfully with {feature}_encodded\")\n",
    "                self.data.drop(feature,axis=1,inplace=True)\n",
    "                logger.info(f\"{feature} has been deleted successfully\")\n",
    "            except Exception as e:\n",
    "                raise e\n",
    "            \n",
    "        \n",
    "        return self.data\n",
    "    \n",
    "    def train_test_split(self):\n",
    "        data = self.preprocess_data()  \n",
    "         \n",
    "\n",
    "        X = data.iloc[:, :-1]\n",
    "        y = data.iloc[:, -1].astype(\"int\")\n",
    "\n",
    "        mi = mutual_info_classif(X, y)\n",
    "        mi_df = pd.DataFrame({'Feature': X.columns, 'Mutual Information': mi})\n",
    "        mi_df = mi_df.sort_values(by='Mutual Information', ascending=False)\n",
    "        top_features = mi_df.head(5)['Feature']\n",
    "\n",
    "        X = data[top_features]\n",
    "\n",
    "        X_train, X_test, y_train, y_test = train_test_split(X, y, test_size=0.2, random_state=42)\n",
    "        \n",
    "        scaler = StandardScaler()\n",
    "        \n",
    "        X_train = scaler.fit_transform(X_train)\n",
    "        \n",
    "        desired_percentage = 0.5\n",
    "\n",
    "        current_counts = Counter(y_train)\n",
    "        total_samples = len(y_train)\n",
    "        minority_class = min(current_counts, key=current_counts.get)\n",
    "        majority_class = max(current_counts, key=current_counts.get)\n",
    "\n",
    "        desired_minority_count = int(total_samples * desired_percentage)\n",
    "        minority_samples_needed = desired_minority_count - current_counts[minority_class]\n",
    "\n",
    "        \n",
    "        smote = SMOTE(sampling_strategy={minority_class: current_counts[minority_class] + minority_samples_needed})\n",
    "        X_train, y_train = smote.fit_resample(X_train, y_train)\n",
    "        X_train = pd.DataFrame(X_train, columns=X.columns)\n",
    "        \n",
    "\n",
    "        X_train.to_csv(os.path.join(self.config.root_dir, \"x_train.csv\"), index=False)\n",
    "        y_train.to_csv(os.path.join(self.config.root_dir, \"y_train.csv\"), index=False)\n",
    "        X_test.to_csv(os.path.join(self.config.root_dir, \"x_test.csv\"), index=False)\n",
    "        y_test.to_csv(os.path.join(self.config.root_dir, \"y_test.csv\"), index=False)\n",
    "        \n",
    "        logger.info(\"Splited data into train and test sets\")\n",
    "        \n",
    "        "
   ]
  },
  {
   "cell_type": "markdown",
   "metadata": {},
   "source": [
    "##### Pipeline"
   ]
  },
  {
   "cell_type": "code",
   "execution_count": 10,
   "metadata": {},
   "outputs": [
    {
     "name": "stdout",
     "output_type": "stream",
     "text": [
      "2025-02-07 21:06:04,529: INFO: comman: yaml file : config\\config.yaml lodded successfully\n",
      "2025-02-07 21:06:04,532: INFO: comman: yaml file : params.yaml lodded successfully\n",
      "2025-02-07 21:06:04,539: INFO: comman: yaml file : schema.yaml lodded successfully\n",
      "2025-02-07 21:06:04,542: INFO: comman: created directory at :artifacts\n",
      "2025-02-07 21:06:04,542: INFO: comman: created directory at :artifacts/data_transformation\n",
      "2025-02-07 21:06:04,558: INFO: 3542402248:  education has been encodded successfully with  education_encodded\n",
      "2025-02-07 21:06:04,563: INFO: 3542402248:  education has been deleted successfully\n",
      "2025-02-07 21:06:04,563: INFO: 3542402248:  self_employed has been encodded successfully with  self_employed_encodded\n",
      "2025-02-07 21:06:04,572: INFO: 3542402248:  self_employed has been deleted successfully\n",
      "2025-02-07 21:06:04,580: INFO: 3542402248:  loan_status has been encodded successfully with  loan_status_encodded\n",
      "2025-02-07 21:06:04,580: INFO: 3542402248:  loan_status has been deleted successfully\n",
      "2025-02-07 21:06:04,807: INFO: 3542402248: Splited data into train and test sets\n"
     ]
    }
   ],
   "source": [
    "try:\n",
    "    config = ConfigurationManager()\n",
    "    data_transformation_config = config.get_data_transformation_config()\n",
    "    data_transformation = DataTransformation(data_transformation_config)\n",
    "    data_transformation.train_test_split()\n",
    "except Exception as e:\n",
    "    logger.exception(e)\n",
    "    raise e"
   ]
  },
  {
   "cell_type": "code",
   "execution_count": null,
   "metadata": {},
   "outputs": [],
   "source": []
  }
 ],
 "metadata": {
  "kernelspec": {
   "display_name": "Python 3",
   "language": "python",
   "name": "python3"
  },
  "language_info": {
   "codemirror_mode": {
    "name": "ipython",
    "version": 3
   },
   "file_extension": ".py",
   "mimetype": "text/x-python",
   "name": "python",
   "nbconvert_exporter": "python",
   "pygments_lexer": "ipython3",
   "version": "3.12.2"
  }
 },
 "nbformat": 4,
 "nbformat_minor": 2
}
