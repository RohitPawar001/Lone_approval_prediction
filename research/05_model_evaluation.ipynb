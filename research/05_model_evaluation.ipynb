{
 "cells": [
  {
   "cell_type": "code",
   "execution_count": 1,
   "metadata": {},
   "outputs": [],
   "source": [
    "import os"
   ]
  },
  {
   "cell_type": "code",
   "execution_count": 2,
   "metadata": {},
   "outputs": [
    {
     "data": {
      "text/plain": [
       "'d:\\\\software\\\\python_vs\\\\lone_approval_prediction\\\\research'"
      ]
     },
     "execution_count": 2,
     "metadata": {},
     "output_type": "execute_result"
    }
   ],
   "source": [
    "%pwd"
   ]
  },
  {
   "cell_type": "code",
   "execution_count": 3,
   "metadata": {},
   "outputs": [],
   "source": [
    "os.chdir(\"../\")"
   ]
  },
  {
   "cell_type": "code",
   "execution_count": 4,
   "metadata": {},
   "outputs": [
    {
     "data": {
      "text/plain": [
       "'d:\\\\software\\\\python_vs\\\\lone_approval_prediction'"
      ]
     },
     "execution_count": 4,
     "metadata": {},
     "output_type": "execute_result"
    }
   ],
   "source": [
    "%pwd"
   ]
  },
  {
   "cell_type": "code",
   "execution_count": null,
   "metadata": {},
   "outputs": [],
   "source": [
    "import mlflow\n",
    "\n",
    "mlflow.set_tracking_uri(\"https://dagshub.com/rppawar491/Lone_approval_prediction.mlflow\")\n",
    "\n",
    "\n",
    "os.environ[\"MLFLOW_TRACKING_URI\"] = \"https://dagshub.com/rppawar491/Lone_approval_prediction.mlflow\"\n",
    "os.environ[\"MLFLOW_TRACKING_USERNAME\"] = \"rppawar491\"\n",
    "os.environ[\"MLFLOW_TRACKING_PASSWARD\"] = \"024579b40f9cfcb8f0cb1be07a0ed82e8ae6f12e\""
   ]
  },
  {
   "cell_type": "markdown",
   "metadata": {},
   "source": [
    "#### Entity"
   ]
  },
  {
   "cell_type": "code",
   "execution_count": 17,
   "metadata": {},
   "outputs": [],
   "source": [
    "from pathlib import Path\n",
    "from dataclasses import dataclass\n",
    "\n",
    "@dataclass\n",
    "class ModelEvaluationConfig:\n",
    "    root_dir : Path\n",
    "    x_test_data_path : Path\n",
    "    y_test_data_path : Path\n",
    "    model_path : Path\n",
    "    all_params : dict\n",
    "    metric_file_name : Path\n",
    "    mlflow_uri : str\n"
   ]
  },
  {
   "cell_type": "markdown",
   "metadata": {},
   "source": [
    "#### Configuration Manager"
   ]
  },
  {
   "cell_type": "code",
   "execution_count": 18,
   "metadata": {},
   "outputs": [],
   "source": [
    "from lone_approval_prediction.constants import *\n",
    "from lone_approval_prediction.utils.comman import read_yaml, create_directories\n",
    "\n",
    "class ConfigurationManager:\n",
    "    def __init__(\n",
    "        self,\n",
    "        config_filepath = CONFIG_FILE_PATH,\n",
    "        params_filepath = PARAMS_FILE_PATH,\n",
    "        schema_filepath = SCHEMA_FILE_PATH\n",
    "    ):\n",
    "        self.config = read_yaml(config_filepath)\n",
    "        self.params = read_yaml(params_filepath)\n",
    "        self.schema = read_yaml(schema_filepath)\n",
    "        \n",
    "        create_directories([self.config.artifacts_root])\n",
    "        \n",
    "    def get_model_evaluation_config(self) -> ModelEvaluationConfig:\n",
    "        config = self.config.model_evaluation\n",
    "        params = self.params.logisticRegressor\n",
    "        schema = self.schema.TARGET_COLUMN\n",
    "        \n",
    "        create_directories([config.root_dir])\n",
    "        \n",
    "        model_evaluation_config = ModelEvaluationConfig(\n",
    "            root_dir = config.root_dir,\n",
    "            x_test_data_path = config.x_test_data_path,\n",
    "            y_test_data_path = config.y_test_data_path,\n",
    "            model_path = config.model_path,\n",
    "            all_params = params,\n",
    "            metric_file_name = config.metric_file_name,\n",
    "            mlflow_uri = \"https://dagshub.com/rppawar491/Lone_approval_prediction.mlflow\"\n",
    "        )\n",
    "        \n",
    "        return model_evaluation_config"
   ]
  },
  {
   "cell_type": "code",
   "execution_count": 21,
   "metadata": {},
   "outputs": [
    {
     "name": "stderr",
     "output_type": "stream",
     "text": [
      "2025/02/11 20:58:24 INFO mlflow.tracking.fluent: Experiment with name 'LogisticRegression' does not exist. Creating a new experiment.\n"
     ]
    },
    {
     "data": {
      "text/plain": [
       "<Experiment: artifact_location='mlflow-artifacts:/91e2e297a676434099787855510cd3cd', creation_time=1739287708346, experiment_id='0', last_update_time=1739287708346, lifecycle_stage='active', name='LogisticRegression', tags={}>"
      ]
     },
     "execution_count": 21,
     "metadata": {},
     "output_type": "execute_result"
    }
   ],
   "source": [
    "import mlflow\n",
    "import os\n",
    "\n",
    "# Set tracking URI\n",
    "mlflow.set_tracking_uri(\"https://dagshub.com/rppawar491/Lone_approval_prediction.mlflow\")\n",
    "\n",
    "# Set credentials using environment variables\n",
    "os.environ['MLFLOW_TRACKING_USERNAME'] = 'rppawar491'\n",
    "os.environ['MLFLOW_TRACKING_PASSWORD'] = '024579b40f9cfcb8f0cb1be07a0ed82e8ae6f12e'\n",
    "\n",
    "mlflow.set_experiment(\"LogisticRegression\")\n"
   ]
  },
  {
   "cell_type": "markdown",
   "metadata": {},
   "source": [
    "#### Component"
   ]
  },
  {
   "cell_type": "code",
   "execution_count": 22,
   "metadata": {},
   "outputs": [],
   "source": [
    "import mlflow\n",
    "import joblib\n",
    "import pandas as pd\n",
    "from urllib.parse import urlparse\n",
    "from sklearn.metrics import accuracy_score, precision_score, f1_score\n",
    "\n",
    "class ModelEvaluation:\n",
    "    def __init__(self, config):\n",
    "        self.config = config\n",
    "\n",
    "    def eval_metrics(self, actual, pred):\n",
    "        try:\n",
    "            accuracy = accuracy_score(actual, pred)\n",
    "            precision = precision_score(actual, pred, average='weighted')\n",
    "            f1 = f1_score(actual, pred, average='weighted')\n",
    "            return accuracy, precision, f1\n",
    "        except Exception as e:\n",
    "            print(f\"Error calculating metrics: {e}\")\n",
    "            return 0, 0, 0\n",
    "\n",
    "    def log_into_mlflow(self):\n",
    "        try:\n",
    "            test_data = pd.read_csv(self.config.x_test_data_path)\n",
    "            model = joblib.load(self.config.model_path)\n",
    "\n",
    "            test_x = test_data\n",
    "            test_y = pd.read_csv(self.config.y_test_data_path)\n",
    "\n",
    "            # Set the MLflow tracking URI and pass the access token\n",
    "            mlflow.set_registry_uri(self.config.mlflow_uri)\n",
    "            mlflow.set_tracking_uri(self.config.mlflow_uri)\n",
    "\n",
    "            # Ensure the tracking URI is properly set\n",
    "            tracking_url_type_store = urlparse(mlflow.get_tracking_uri()).scheme\n",
    "            print(f\"Tracking URI: {mlflow.get_tracking_uri()}\")\n",
    "\n",
    "            with mlflow.start_run():\n",
    "                predicted_classes = model.predict(test_x)\n",
    "\n",
    "                accuracy, precision, f1 = self.eval_metrics(test_y, predicted_classes)\n",
    "                scores = {\"accuracy\": accuracy, \"precision\": precision, \"f1\": f1}\n",
    "\n",
    "                mlflow.log_params(self.config.all_params)\n",
    "                mlflow.log_metrics(scores)\n",
    "\n",
    "                # Model registry does not work with file store\n",
    "                if tracking_url_type_store != \"file\":\n",
    "                    mlflow.sklearn.log_model(model, \"model\", registered_model_name=\"LogisticRegression\")\n",
    "                else:\n",
    "                    mlflow.sklearn.log_model(model, \"model\")\n",
    "\n",
    "                return scores\n",
    "\n",
    "        except Exception as e:\n",
    "            raise e\n"
   ]
  },
  {
   "cell_type": "code",
   "execution_count": 25,
   "metadata": {},
   "outputs": [
    {
     "name": "stdout",
     "output_type": "stream",
     "text": [
      "2025-02-11 21:02:44,877: INFO: comman: yaml file : config\\config.yaml lodded successfully\n",
      "2025-02-11 21:02:44,878: INFO: comman: yaml file : params.yaml lodded successfully\n",
      "2025-02-11 21:02:44,886: INFO: comman: yaml file : schema.yaml lodded successfully\n",
      "2025-02-11 21:02:44,889: INFO: comman: created directory at :artifacts\n",
      "2025-02-11 21:02:44,890: INFO: comman: created directory at :artifacts/model_evaluation\n",
      "Tracking URI: https://dagshub.com/rppawar491/Lone_approval_prediction.mlflow\n"
     ]
    },
    {
     "name": "stderr",
     "output_type": "stream",
     "text": [
      "d:\\software\\Lib\\site-packages\\sklearn\\metrics\\_classification.py:1509: UndefinedMetricWarning: Precision is ill-defined and being set to 0.0 in labels with no predicted samples. Use `zero_division` parameter to control this behavior.\n",
      "  _warn_prf(average, modifier, f\"{metric.capitalize()} is\", len(result))\n",
      "2025/02/11 21:02:50 WARNING mlflow.models.model: Model logged without a signature and input example. Please set `input_example` parameter when logging the model to auto infer the model signature.\n",
      "Registered model 'LogisticRegression' already exists. Creating a new version of this model...\n",
      "2025/02/11 21:02:56 INFO mlflow.store.model_registry.abstract_store: Waiting up to 300 seconds for model version to finish creation. Model name: LogisticRegression, version 3\n",
      "Created version '3' of model 'LogisticRegression'.\n"
     ]
    },
    {
     "name": "stdout",
     "output_type": "stream",
     "text": [
      "🏃 View run popular-elk-72 at: https://dagshub.com/rppawar491/Lone_approval_prediction.mlflow/#/experiments/0/runs/6020b592d53349cfa5e98bc4dc4ea8ba\n",
      "🧪 View experiment at: https://dagshub.com/rppawar491/Lone_approval_prediction.mlflow/#/experiments/0\n"
     ]
    }
   ],
   "source": [
    "try :\n",
    "    config = ConfigurationManager()\n",
    "    model_evaluation_config = config.get_model_evaluation_config()\n",
    "    model_evaluation_config = ModelEvaluation(config=model_evaluation_config)\n",
    "    model_evaluation_config.log_into_mlflow()\n",
    "except Exception as e:\n",
    "    raise e"
   ]
  },
  {
   "cell_type": "code",
   "execution_count": null,
   "metadata": {},
   "outputs": [],
   "source": []
  },
  {
   "cell_type": "code",
   "execution_count": null,
   "metadata": {},
   "outputs": [],
   "source": [
    "#$env:MLFLOW_TRACKING_URI=\"https://dagshub.com/rppawar491/Lone_approval_prediction.mlflow\"\n",
    "#$env:MLFLOW_TRACKING_USERNAME=\"rppawar491\"\n",
    "#$env:MLFLOW_TRACKING_PASSWORD=\"024579b40f9cfcb8f0cb1be07a0ed82e8ae6f12\""
   ]
  }
 ],
 "metadata": {
  "kernelspec": {
   "display_name": "Python 3",
   "language": "python",
   "name": "python3"
  },
  "language_info": {
   "codemirror_mode": {
    "name": "ipython",
    "version": 3
   },
   "file_extension": ".py",
   "mimetype": "text/x-python",
   "name": "python",
   "nbconvert_exporter": "python",
   "pygments_lexer": "ipython3",
   "version": "3.12.2"
  }
 },
 "nbformat": 4,
 "nbformat_minor": 2
}
